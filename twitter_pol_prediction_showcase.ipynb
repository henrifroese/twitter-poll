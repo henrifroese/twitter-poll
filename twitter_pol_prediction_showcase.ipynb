{
  "nbformat": 4,
  "nbformat_minor": 0,
  "metadata": {
    "colab": {
      "name": "twitter_pol_prediction_showcase.ipynb",
      "provenance": [],
      "collapsed_sections": [],
      "mount_file_id": "1hVFM-Hxxi9aC0EJIJY6mTLRDuAw5HKyK",
      "authorship_tag": "ABX9TyPRySIxN9bYKNDf046N9S8Y",
      "include_colab_link": true
    },
    "kernelspec": {
      "name": "python3",
      "display_name": "Python 3"
    },
    "accelerator": "GPU"
  },
  "cells": [
    {
      "cell_type": "markdown",
      "metadata": {
        "id": "view-in-github",
        "colab_type": "text"
      },
      "source": [
        "<a href=\"https://colab.research.google.com/github/hf2000510/twitter-poll/blob/master/twitter_pol_prediction_showcase.ipynb\" target=\"_parent\"><img src=\"https://colab.research.google.com/assets/colab-badge.svg\" alt=\"Open In Colab\"/></a>"
      ]
    },
    {
      "cell_type": "markdown",
      "metadata": {
        "id": "ecM1YfMevL3Q",
        "colab_type": "text"
      },
      "source": [
        "# Showcasing the full prediction workflow for the pretrained model"
      ]
    },
    {
      "cell_type": "markdown",
      "metadata": {
        "id": "LSOlp6WWvZG_",
        "colab_type": "text"
      },
      "source": [
        "## imports and setup"
      ]
    },
    {
      "cell_type": "code",
      "metadata": {
        "id": "E1LfzIZVvIGq",
        "colab_type": "code",
        "colab": {}
      },
      "source": [
        "import matplotlib.pyplot as plt\n",
        "%matplotlib inline\n",
        "!pip install mpld3\n",
        "import mpld3\n",
        "mpld3.enable_notebook()\n",
        "\n",
        "import numpy as np\n",
        "import pandas as pd\n",
        "import pickle\n",
        "\n",
        "%tensorflow_version 2.x\n",
        "import tensorflow as tf\n",
        "!pip install transformers\n",
        "import transformers\n",
        "from transformers import AutoTokenizer\n",
        "\n",
        "import warnings\n",
        "warnings.filterwarnings('ignore')\n",
        "\n",
        "!pip install TwitterSearch\n",
        "from TwitterSearch import *\n",
        "from os import listdir\n",
        "import importlib.util\n",
        "\n",
        "import nltk\n",
        "nltk.download('stopwords')\n",
        "import re\n",
        "import string\n",
        "\n",
        "import typing\n",
        "from typing import *"
      ],
      "execution_count": 0,
      "outputs": []
    },
    {
      "cell_type": "markdown",
      "metadata": {
        "id": "9OCyQcIUv4hK",
        "colab_type": "text"
      },
      "source": [
        "You need Twitter API access (follow [these docs](https://developer.twitter.com/en/docs/labs/filtered-stream/quick-start)). You can either store the credentials as below in a keyfile.py or just manually enter them below when needed (you then don't need to execute the next cell)."
      ]
    },
    {
      "cell_type": "code",
      "metadata": {
        "id": "XDcPC2cevhWH",
        "colab_type": "code",
        "colab": {}
      },
      "source": [
        "spec = importlib.util.spec_from_file_location(\"keyfile\", \"/content/drive/My Drive/twitter_pol/keyfile.py\")  # twitter api access tokens are stored in the keyfile\n",
        "keyfile = importlib.util.module_from_spec(spec)\n",
        "spec.loader.exec_module(keyfile)"
      ],
      "execution_count": 0,
      "outputs": []
    },
    {
      "cell_type": "markdown",
      "metadata": {
        "id": "uKDwABuExOie",
        "colab_type": "text"
      },
      "source": [
        "## Functions etc."
      ]
    },
    {
      "cell_type": "code",
      "metadata": {
        "id": "jEfzLnmNxSs9",
        "colab_type": "code",
        "colab": {}
      },
      "source": [
        "# functions to clean the tweets\n",
        "def remove_URL(text):\n",
        "    text = re.sub(r'http\\S+', '', text)\n",
        "    return text\n",
        "\n",
        "def remove_html(text):\n",
        "    html=re.compile(r'<.*?>')\n",
        "    return html.sub(r'',text)\n",
        "\n",
        "exclude = set(string.punctuation)\n",
        "def remove_punct(text):\n",
        "    text = ''.join(ch for ch in text if ch not in exclude)\n",
        "    text = text.replace('\\n', ' ').replace('\\r', '')\n",
        "    return text"
      ],
      "execution_count": 0,
      "outputs": []
    },
    {
      "cell_type": "markdown",
      "metadata": {
        "id": "uTS5x2kkyMYe",
        "colab_type": "text"
      },
      "source": [
        "## functions and tokenizer for the model"
      ]
    },
    {
      "cell_type": "code",
      "metadata": {
        "id": "6qhPAi9GxUE5",
        "colab_type": "code",
        "colab": {}
      },
      "source": [
        "tokenizer = AutoTokenizer.from_pretrained(\"bert-base-german-cased\")"
      ],
      "execution_count": 0,
      "outputs": []
    },
    {
      "cell_type": "code",
      "metadata": {
        "id": "fMw6tkiqxZBU",
        "colab_type": "code",
        "colab": {}
      },
      "source": [
        "def bert_encode(texts, tokenizer, max_len=512):\n",
        "    '''\n",
        "    texts: list of strings, each string one text to be encoded (e.g. [\"First tweet text\", \"Second tweet text\", ...])\n",
        "    tokenizer: a BERT tokenizer (e.g. AutoTokenizer.from_pretrained(\"bert-base-german-cased\"))\n",
        "    max_len: maximum length of each string (number of words!) in the texts list\n",
        "\n",
        "    output: tuple of BERT encodings of the input texts: (word_ids, attention_masks, segment_ids)\n",
        "    '''\n",
        "    all_tokens = []\n",
        "    all_masks = []\n",
        "    all_segments = []\n",
        "\n",
        "    for text in texts:\n",
        "        text = tokenizer.tokenize(text)\n",
        "\n",
        "        text = text[:max_len-2]\n",
        "        input_sequence = [\"[CLS]\"] + text + [\"[SEP]\"]\n",
        "        pad_len = max_len - len(input_sequence)\n",
        "        \n",
        "        tokens = tokenizer.convert_tokens_to_ids(input_sequence)\n",
        "        tokens += [0] * pad_len\n",
        "        pad_masks = [1] * len(input_sequence) + [0] * pad_len\n",
        "        segment_ids = [0] * max_len\n",
        "        \n",
        "        all_tokens.append(tokens)\n",
        "        all_masks.append(pad_masks)\n",
        "        all_segments.append(segment_ids)\n",
        "\n",
        "    return np.array(all_tokens), np.array(all_masks), np.array(all_segments)"
      ],
      "execution_count": 0,
      "outputs": []
    },
    {
      "cell_type": "markdown",
      "metadata": {
        "id": "MBlNA8rxyQvA",
        "colab_type": "text"
      },
      "source": [
        "## functions to get tweets etc."
      ]
    },
    {
      "cell_type": "code",
      "metadata": {
        "id": "a9pkksCfxqLY",
        "colab_type": "code",
        "colab": {}
      },
      "source": [
        "def tweets_from_usernames(usernames: List[str], party_id: int, num_parties=6) -> List[Any]:\n",
        "    '''\n",
        "    usernames: List of twitter handles; have to be from the same party\n",
        "    party_id: int to assign the tweets to a class (e.g. 1 -> returns [[tweet, 1, 0, 0, 0, 0, 0], ...])\n",
        "    num_parties: total number of parties\n",
        "\n",
        "    returns list of lists, with each list of form [tweet, 0, 0, 1, 0, 0] with 1 at party_id (e.g. here = 3) and num_parties 0s and 1s\n",
        "    '''\n",
        "    ts = TwitterSearch(\n",
        "        # ***************** YOUR CREDENTIALS HERE ***********************\n",
        "        consumer_key = keyfile.consumer_key,\n",
        "        consumer_secret = keyfile.consumer_secret,\n",
        "        access_token = keyfile.access_token,\n",
        "        access_token_secret = keyfile.access_token_secret\n",
        "     )\n",
        "\n",
        "    all_users_combined = []\n",
        "    one_hot_enc_mask = [0] * num_parties\n",
        "    one_hot_enc_mask[party_id - 1] = 1\n",
        "\n",
        "    for username in usernames:\n",
        "        try:\n",
        "            tuo = TwitterUserOrder(username)\n",
        "            tuo.set_include_rts(False)\n",
        "            tuo.arguments.update({'tweet_mode':'extended'})  # change to Twitter API -> text truncated by default -> set to extended\n",
        "\n",
        "            for index, tweet in enumerate(ts.search_tweets_iterable(tuo)):\n",
        "                tweet_content = tweet['full_text']\n",
        "                all_users_combined.append([tweet_content] + one_hot_enc_mask)\n",
        "                if index == 99:  # 100 tweets per user\n",
        "                    break\n",
        "\n",
        "        except TwitterSearchException as e:\n",
        "            print(e, username)\n",
        "\n",
        "    return all_users_combined"
      ],
      "execution_count": 0,
      "outputs": []
    },
    {
      "cell_type": "code",
      "metadata": {
        "id": "LbRCVZowx1sT",
        "colab_type": "code",
        "colab": {}
      },
      "source": [
        "# concat to 500 each\n",
        "def concat_tweets(tweets_with_one_hot):\n",
        "    '''\n",
        "    tweets_with_one_hot: List of form [[tweet, 1, 0, 0], ...]\n",
        "\n",
        "    returns list of tweets with each sublist having <= 500 tokens\n",
        "    '''\n",
        "    concatenated_tweets = []\n",
        "    one_hot_enc_mask = tweets_with_one_hot[0][1:]\n",
        "    curr = \"\"\n",
        "    for tweet_with_one_hot in tweets_with_one_hot:\n",
        "      tweet_content = tweet_with_one_hot[0]\n",
        "      if len(curr) + len(tweet_content.split()) <= 500:\n",
        "        curr += \" \" + tweet_content\n",
        "      else:\n",
        "        concatenated_tweets.append([curr] + one_hot_enc_mask)\n",
        "        curr = tweet_content\n",
        "    if curr:\n",
        "      concatenated_tweets.append([curr] + one_hot_enc_mask)\n",
        "    \n",
        "    return concatenated_tweets"
      ],
      "execution_count": 0,
      "outputs": []
    },
    {
      "cell_type": "markdown",
      "metadata": {
        "id": "lHcRyIc8yTTo",
        "colab_type": "text"
      },
      "source": [
        "# getting model and predicting\n",
        "The model is stored in [google drive](https://drive.google.com/open?id=1-1qIYDXzAMfUhH0Z57wBsaX_PGljNPbs) as my_model.h5py . Just download the whole thing (*the whole folder!*) and upload it to your google drive for use with colab."
      ]
    },
    {
      "cell_type": "code",
      "metadata": {
        "id": "8qAFoyzvyWs6",
        "colab_type": "code",
        "colab": {}
      },
      "source": [
        "model = tf.keras.models.load_model('/content/drive/My Drive/twitter_pol/my_model.h5py', custom_objects=None, compile=True)"
      ],
      "execution_count": 0,
      "outputs": []
    },
    {
      "cell_type": "code",
      "metadata": {
        "id": "8GRmpFpDzcuW",
        "colab_type": "code",
        "colab": {}
      },
      "source": [
        "def username_to_prediction(username):\n",
        "  '''\n",
        "  username: valid twitter username as string (user must not be private)\n",
        "\n",
        "  returns tuple (username, pred) where pred is 6-dimensional array of softmax output\n",
        "  '''\n",
        "  # get and concat (to <= 500 each) and concat up to 100 tweets of the given username\n",
        "  list_of_tweets = [remove_URL(remove_html(remove_punct(tweet[0]))) for tweet in concat_tweets(tweets_from_usernames([username], party_id=1, num_parties=2))]\n",
        "  # encode the user's tweets\n",
        "  network_input = bert_encode(list_of_tweets, tokenizer, max_len=500)\n",
        "  # get the network's predictions\n",
        "  preds = model.predict(network_input, verbose=0)\n",
        "  return username, np.mean(preds, axis=0)\n",
        "\n",
        "def plot_prediction(username, user_prediction):\n",
        "  fig, ax = plt.subplots()\n",
        "  rects1 = ax.bar(np.arange(len(np.squeeze(user_prediction))),np.squeeze(user_prediction))\n",
        "  ax.set_xticks(np.arange(len(np.squeeze(user_prediction))))\n",
        "  ax.set_xticklabels((\"linke\", \"green\", \"spd\", \"fdp\", \"cdu\", \"afd\"))\n",
        "  ax.set_ylabel('Confidence')\n",
        "  ax.set_xlabel('Party')\n",
        "  ax.yaxis.set_label_coords(-0.12,0.5)\n",
        "  title = \"username: \" + username\n",
        "  ax.set_title(title)\n",
        "  plt.show()\n",
        "\n",
        "def username_to_plot(username):\n",
        "  plot_prediction(*username_to_prediction(username))  "
      ],
      "execution_count": 0,
      "outputs": []
    },
    {
      "cell_type": "markdown",
      "metadata": {
        "id": "RfAMkXVEzrxX",
        "colab_type": "text"
      },
      "source": [
        "# Examples"
      ]
    },
    {
      "cell_type": "markdown",
      "metadata": {
        "colab_type": "text",
        "id": "8_3Fv7MWGDGC"
      },
      "source": [
        "Official account of SPD in Hamburg"
      ]
    },
    {
      "cell_type": "code",
      "metadata": {
        "id": "4qG4knAyzxF1",
        "colab_type": "code",
        "colab": {
          "base_uri": "https://localhost:8080/",
          "height": 52
        },
        "outputId": "2d1c541c-3cfd-4fae-e4a4-87c4117b1809"
      },
      "source": [
        "username_to_prediction(\"SPDhh\")"
      ],
      "execution_count": 13,
      "outputs": [
        {
          "output_type": "execute_result",
          "data": {
            "text/plain": [
              "('SPDhh', array([9.7734565e-03, 8.3710089e-02, 6.1425084e-01, 3.0992078e-02,\n",
              "        2.6075315e-01, 5.2038697e-04], dtype=float32))"
            ]
          },
          "metadata": {
            "tags": []
          },
          "execution_count": 13
        }
      ]
    },
    {
      "cell_type": "code",
      "metadata": {
        "id": "37NN-xscFvbb",
        "colab_type": "code",
        "outputId": "e4caa638-cbfa-4af5-bd4f-5a3e7cf2a005",
        "colab": {
          "base_uri": "https://localhost:8080/",
          "height": 308
        }
      },
      "source": [
        "username_to_plot(\"SPDhh\")"
      ],
      "execution_count": 12,
      "outputs": [
        {
          "output_type": "display_data",
          "data": {
            "image/png": "[encoded data removed]",
            "text/html": [
              "\n",
              "\n",
              "<style>\n",
              "\n",
              "</style>\n",
              "\n",
              "<div id=\"fig_el1241403251699333369164905757\"></div>\n",
              "<script>\n",
              "function mpld3_load_lib(url, callback){\n",
              "  var s = document.createElement('script');\n",
              "  s.src = url;\n",
              "  s.async = true;\n",
              "  s.onreadystatechange = s.onload = callback;\n",
              "  s.onerror = function(){console.warn(\"failed to load library \" + url);};\n",
              "  document.getElementsByTagName(\"head\")[0].appendChild(s);\n",
              "}\n",
              "\n",
              "if(typeof(mpld3) !== \"undefined\" && mpld3._mpld3IsLoaded){\n",
              "   // already loaded: just create the figure\n",
              "   !function(mpld3){\n",
              "       \n",
              "       mpld3.draw_figure(\"fig_el1241403251699333369164905757\", {\"width\": 432.0, \"height\": 288.0, \"axes\": [{\"bbox\": [0.125, 0.125, 0.775, 0.755], \"xlim\": [-0.69, 5.6899999999999995], \"ylim\": [0.0, 0.6449633806943893], \"xdomain\": [-0.69, 5.6899999999999995], \"ydomain\": [0.0, 0.6449633806943893], \"xscale\": \"linear\", \"yscale\": \"linear\", \"axes\": [{\"position\": \"bottom\", \"nticks\": 6, \"tickvalues\": [0, 1, 2, 3, 4, 5], \"tickformat\": [\"linke\", \"green\", \"spd\", \"fdp\", \"cdu\", \"afd\"], \"scale\": \"linear\", \"fontsize\": 10.0, \"grid\": {\"gridOn\": false}, \"visible\": true}, {\"position\": \"left\", \"nticks\": 8, \"tickvalues\": null, \"tickformat\": null, \"scale\": \"linear\", \"fontsize\": 10.0, \"grid\": {\"gridOn\": false}, \"visible\": true}], \"axesbg\": \"#FFFFFF\", \"axesbgalpha\": null, \"zoomable\": true, \"id\": \"el124140324904092784\", \"lines\": [], \"paths\": [{\"data\": \"data01\", \"xindex\": 0, \"yindex\": 1, \"coordinates\": \"data\", \"pathcodes\": [\"M\", \"L\", \"L\", \"L\", \"Z\"], \"id\": \"el124140324903467720\", \"dasharray\": \"none\", \"alpha\": 1, \"facecolor\": \"#1F77B4\", \"edgecolor\": \"none\", \"edgewidth\": 1.0, \"zorder\": 1}, {\"data\": \"data02\", \"xindex\": 0, \"yindex\": 1, \"coordinates\": \"data\", \"pathcodes\": [\"M\", \"L\", \"L\", \"L\", \"Z\"], \"id\": \"el124140324903465200\", \"dasharray\": \"none\", \"alpha\": 1, \"facecolor\": \"#1F77B4\", \"edgecolor\": \"none\", \"edgewidth\": 1.0, \"zorder\": 1}, {\"data\": \"data03\", \"xindex\": 0, \"yindex\": 1, \"coordinates\": \"data\", \"pathcodes\": [\"M\", \"L\", \"L\", \"L\", \"Z\"], \"id\": \"el124140324903527480\", \"dasharray\": \"none\", \"alpha\": 1, \"facecolor\": \"#1F77B4\", \"edgecolor\": \"none\", \"edgewidth\": 1.0, \"zorder\": 1}, {\"data\": \"data04\", \"xindex\": 0, \"yindex\": 1, \"coordinates\": \"data\", \"pathcodes\": [\"M\", \"L\", \"L\", \"L\", \"Z\"], \"id\": \"el124140324903544032\", \"dasharray\": \"none\", \"alpha\": 1, \"facecolor\": \"#1F77B4\", \"edgecolor\": \"none\", \"edgewidth\": 1.0, \"zorder\": 1}, {\"data\": \"data05\", \"xindex\": 0, \"yindex\": 1, \"coordinates\": \"data\", \"pathcodes\": [\"M\", \"L\", \"L\", \"L\", \"Z\"], \"id\": \"el124140324903572032\", \"dasharray\": \"none\", \"alpha\": 1, \"facecolor\": \"#1F77B4\", \"edgecolor\": \"none\", \"edgewidth\": 1.0, \"zorder\": 1}, {\"data\": \"data06\", \"xindex\": 0, \"yindex\": 1, \"coordinates\": \"data\", \"pathcodes\": [\"M\", \"L\", \"L\", \"L\", \"Z\"], \"id\": \"el124140324903592680\", \"dasharray\": \"none\", \"alpha\": 1, \"facecolor\": \"#1F77B4\", \"edgecolor\": \"none\", \"edgewidth\": 1.0, \"zorder\": 1}], \"markers\": [], \"texts\": [{\"text\": \"Party\", \"position\": [0.49999999999999994, -0.09657836644591611], \"coordinates\": \"axes\", \"h_anchor\": \"middle\", \"v_baseline\": \"hanging\", \"rotation\": -0.0, \"fontsize\": 10.0, \"color\": \"#000000\", \"alpha\": 1, \"zorder\": 3, \"id\": \"el124140324904141432\"}, {\"text\": \"Confidence\", \"position\": [-0.12, 0.5], \"coordinates\": \"axes\", \"h_anchor\": \"middle\", \"v_baseline\": \"auto\", \"rotation\": -90.0, \"fontsize\": 10.0, \"color\": \"#000000\", \"alpha\": 1, \"zorder\": 3, \"id\": \"el124140324904174872\"}, {\"text\": \"username: SPDhh\", \"position\": [0.49999999999999994, 1.0275938189845473], \"coordinates\": \"axes\", \"h_anchor\": \"middle\", \"v_baseline\": \"auto\", \"rotation\": -0.0, \"fontsize\": 12.0, \"color\": \"#000000\", \"alpha\": 1, \"zorder\": 3, \"id\": \"el124140323661905592\"}], \"collections\": [], \"images\": [], \"sharex\": [], \"sharey\": []}], \"data\": {\"data01\": [[-0.4, 0.0], [0.4, 0.0], [0.4, 0.009773456491529942], [-0.4, 0.009773456491529942]], \"data02\": [[0.6, 0.0], [1.4, 0.0], [1.4, 0.08371008932590485], [0.6, 0.08371008932590485]], \"data03\": [[1.6, 0.0], [2.4000000000000004, 0.0], [2.4000000000000004, 0.6142508387565613], [1.6, 0.6142508387565613]], \"data04\": [[2.6, 0.0], [3.4000000000000004, 0.0], [3.4000000000000004, 0.03099207766354084], [2.6, 0.03099207766354084]], \"data05\": [[3.6, 0.0], [4.4, 0.0], [4.4, 0.26075315475463867], [3.6, 0.26075315475463867]], \"data06\": [[4.6, 0.0], [5.3999999999999995, 0.0], [5.3999999999999995, 0.000520386965945363], [4.6, 0.000520386965945363]]}, \"id\": \"el124140325169933336\", \"plugins\": [{\"type\": \"reset\"}, {\"type\": \"zoom\", \"button\": true, \"enabled\": false}, {\"type\": \"boxzoom\", \"button\": true, \"enabled\": false}]});\n",
              "   }(mpld3);\n",
              "}else if(typeof define === \"function\" && define.amd){\n",
              "   // require.js is available: use it to load d3/mpld3\n",
              "   require.config({paths: {d3: \"https://mpld3.github.io/js/d3.v3.min\"}});\n",
              "   require([\"d3\"], function(d3){\n",
              "      window.d3 = d3;\n",
              "      mpld3_load_lib(\"https://mpld3.github.io/js/mpld3.v0.3.js\", function(){\n",
              "         \n",
              "         mpld3.draw_figure(\"fig_el1241403251699333369164905757\", {\"width\": 432.0, \"height\": 288.0, \"axes\": [{\"bbox\": [0.125, 0.125, 0.775, 0.755], \"xlim\": [-0.69, 5.6899999999999995], \"ylim\": [0.0, 0.6449633806943893], \"xdomain\": [-0.69, 5.6899999999999995], \"ydomain\": [0.0, 0.6449633806943893], \"xscale\": \"linear\", \"yscale\": \"linear\", \"axes\": [{\"position\": \"bottom\", \"nticks\": 6, \"tickvalues\": [0, 1, 2, 3, 4, 5], \"tickformat\": [\"linke\", \"green\", \"spd\", \"fdp\", \"cdu\", \"afd\"], \"scale\": \"linear\", \"fontsize\": 10.0, \"grid\": {\"gridOn\": false}, \"visible\": true}, {\"position\": \"left\", \"nticks\": 8, \"tickvalues\": null, \"tickformat\": null, \"scale\": \"linear\", \"fontsize\": 10.0, \"grid\": {\"gridOn\": false}, \"visible\": true}], \"axesbg\": \"#FFFFFF\", \"axesbgalpha\": null, \"zoomable\": true, \"id\": \"el124140324904092784\", \"lines\": [], \"paths\": [{\"data\": \"data01\", \"xindex\": 0, \"yindex\": 1, \"coordinates\": \"data\", \"pathcodes\": [\"M\", \"L\", \"L\", \"L\", \"Z\"], \"id\": \"el124140324903467720\", \"dasharray\": \"none\", \"alpha\": 1, \"facecolor\": \"#1F77B4\", \"edgecolor\": \"none\", \"edgewidth\": 1.0, \"zorder\": 1}, {\"data\": \"data02\", \"xindex\": 0, \"yindex\": 1, \"coordinates\": \"data\", \"pathcodes\": [\"M\", \"L\", \"L\", \"L\", \"Z\"], \"id\": \"el124140324903465200\", \"dasharray\": \"none\", \"alpha\": 1, \"facecolor\": \"#1F77B4\", \"edgecolor\": \"none\", \"edgewidth\": 1.0, \"zorder\": 1}, {\"data\": \"data03\", \"xindex\": 0, \"yindex\": 1, \"coordinates\": \"data\", \"pathcodes\": [\"M\", \"L\", \"L\", \"L\", \"Z\"], \"id\": \"el124140324903527480\", \"dasharray\": \"none\", \"alpha\": 1, \"facecolor\": \"#1F77B4\", \"edgecolor\": \"none\", \"edgewidth\": 1.0, \"zorder\": 1}, {\"data\": \"data04\", \"xindex\": 0, \"yindex\": 1, \"coordinates\": \"data\", \"pathcodes\": [\"M\", \"L\", \"L\", \"L\", \"Z\"], \"id\": \"el124140324903544032\", \"dasharray\": \"none\", \"alpha\": 1, \"facecolor\": \"#1F77B4\", \"edgecolor\": \"none\", \"edgewidth\": 1.0, \"zorder\": 1}, {\"data\": \"data05\", \"xindex\": 0, \"yindex\": 1, \"coordinates\": \"data\", \"pathcodes\": [\"M\", \"L\", \"L\", \"L\", \"Z\"], \"id\": \"el124140324903572032\", \"dasharray\": \"none\", \"alpha\": 1, \"facecolor\": \"#1F77B4\", \"edgecolor\": \"none\", \"edgewidth\": 1.0, \"zorder\": 1}, {\"data\": \"data06\", \"xindex\": 0, \"yindex\": 1, \"coordinates\": \"data\", \"pathcodes\": [\"M\", \"L\", \"L\", \"L\", \"Z\"], \"id\": \"el124140324903592680\", \"dasharray\": \"none\", \"alpha\": 1, \"facecolor\": \"#1F77B4\", \"edgecolor\": \"none\", \"edgewidth\": 1.0, \"zorder\": 1}], \"markers\": [], \"texts\": [{\"text\": \"Party\", \"position\": [0.49999999999999994, -0.09657836644591611], \"coordinates\": \"axes\", \"h_anchor\": \"middle\", \"v_baseline\": \"hanging\", \"rotation\": -0.0, \"fontsize\": 10.0, \"color\": \"#000000\", \"alpha\": 1, \"zorder\": 3, \"id\": \"el124140324904141432\"}, {\"text\": \"Confidence\", \"position\": [-0.12, 0.5], \"coordinates\": \"axes\", \"h_anchor\": \"middle\", \"v_baseline\": \"auto\", \"rotation\": -90.0, \"fontsize\": 10.0, \"color\": \"#000000\", \"alpha\": 1, \"zorder\": 3, \"id\": \"el124140324904174872\"}, {\"text\": \"username: SPDhh\", \"position\": [0.49999999999999994, 1.0275938189845473], \"coordinates\": \"axes\", \"h_anchor\": \"middle\", \"v_baseline\": \"auto\", \"rotation\": -0.0, \"fontsize\": 12.0, \"color\": \"#000000\", \"alpha\": 1, \"zorder\": 3, \"id\": \"el124140323661905592\"}], \"collections\": [], \"images\": [], \"sharex\": [], \"sharey\": []}], \"data\": {\"data01\": [[-0.4, 0.0], [0.4, 0.0], [0.4, 0.009773456491529942], [-0.4, 0.009773456491529942]], \"data02\": [[0.6, 0.0], [1.4, 0.0], [1.4, 0.08371008932590485], [0.6, 0.08371008932590485]], \"data03\": [[1.6, 0.0], [2.4000000000000004, 0.0], [2.4000000000000004, 0.6142508387565613], [1.6, 0.6142508387565613]], \"data04\": [[2.6, 0.0], [3.4000000000000004, 0.0], [3.4000000000000004, 0.03099207766354084], [2.6, 0.03099207766354084]], \"data05\": [[3.6, 0.0], [4.4, 0.0], [4.4, 0.26075315475463867], [3.6, 0.26075315475463867]], \"data06\": [[4.6, 0.0], [5.3999999999999995, 0.0], [5.3999999999999995, 0.000520386965945363], [4.6, 0.000520386965945363]]}, \"id\": \"el124140325169933336\", \"plugins\": [{\"type\": \"reset\"}, {\"type\": \"zoom\", \"button\": true, \"enabled\": false}, {\"type\": \"boxzoom\", \"button\": true, \"enabled\": false}]});\n",
              "      });\n",
              "    });\n",
              "}else{\n",
              "    // require.js not available: dynamically load d3 & mpld3\n",
              "    mpld3_load_lib(\"https://mpld3.github.io/js/d3.v3.min.js\", function(){\n",
              "         mpld3_load_lib(\"https://mpld3.github.io/js/mpld3.v0.3.js\", function(){\n",
              "                 \n",
              "                 mpld3.draw_figure(\"fig_el1241403251699333369164905757\", {\"width\": 432.0, \"height\": 288.0, \"axes\": [{\"bbox\": [0.125, 0.125, 0.775, 0.755], \"xlim\": [-0.69, 5.6899999999999995], \"ylim\": [0.0, 0.6449633806943893], \"xdomain\": [-0.69, 5.6899999999999995], \"ydomain\": [0.0, 0.6449633806943893], \"xscale\": \"linear\", \"yscale\": \"linear\", \"axes\": [{\"position\": \"bottom\", \"nticks\": 6, \"tickvalues\": [0, 1, 2, 3, 4, 5], \"tickformat\": [\"linke\", \"green\", \"spd\", \"fdp\", \"cdu\", \"afd\"], \"scale\": \"linear\", \"fontsize\": 10.0, \"grid\": {\"gridOn\": false}, \"visible\": true}, {\"position\": \"left\", \"nticks\": 8, \"tickvalues\": null, \"tickformat\": null, \"scale\": \"linear\", \"fontsize\": 10.0, \"grid\": {\"gridOn\": false}, \"visible\": true}], \"axesbg\": \"#FFFFFF\", \"axesbgalpha\": null, \"zoomable\": true, \"id\": \"el124140324904092784\", \"lines\": [], \"paths\": [{\"data\": \"data01\", \"xindex\": 0, \"yindex\": 1, \"coordinates\": \"data\", \"pathcodes\": [\"M\", \"L\", \"L\", \"L\", \"Z\"], \"id\": \"el124140324903467720\", \"dasharray\": \"none\", \"alpha\": 1, \"facecolor\": \"#1F77B4\", \"edgecolor\": \"none\", \"edgewidth\": 1.0, \"zorder\": 1}, {\"data\": \"data02\", \"xindex\": 0, \"yindex\": 1, \"coordinates\": \"data\", \"pathcodes\": [\"M\", \"L\", \"L\", \"L\", \"Z\"], \"id\": \"el124140324903465200\", \"dasharray\": \"none\", \"alpha\": 1, \"facecolor\": \"#1F77B4\", \"edgecolor\": \"none\", \"edgewidth\": 1.0, \"zorder\": 1}, {\"data\": \"data03\", \"xindex\": 0, \"yindex\": 1, \"coordinates\": \"data\", \"pathcodes\": [\"M\", \"L\", \"L\", \"L\", \"Z\"], \"id\": \"el124140324903527480\", \"dasharray\": \"none\", \"alpha\": 1, \"facecolor\": \"#1F77B4\", \"edgecolor\": \"none\", \"edgewidth\": 1.0, \"zorder\": 1}, {\"data\": \"data04\", \"xindex\": 0, \"yindex\": 1, \"coordinates\": \"data\", \"pathcodes\": [\"M\", \"L\", \"L\", \"L\", \"Z\"], \"id\": \"el124140324903544032\", \"dasharray\": \"none\", \"alpha\": 1, \"facecolor\": \"#1F77B4\", \"edgecolor\": \"none\", \"edgewidth\": 1.0, \"zorder\": 1}, {\"data\": \"data05\", \"xindex\": 0, \"yindex\": 1, \"coordinates\": \"data\", \"pathcodes\": [\"M\", \"L\", \"L\", \"L\", \"Z\"], \"id\": \"el124140324903572032\", \"dasharray\": \"none\", \"alpha\": 1, \"facecolor\": \"#1F77B4\", \"edgecolor\": \"none\", \"edgewidth\": 1.0, \"zorder\": 1}, {\"data\": \"data06\", \"xindex\": 0, \"yindex\": 1, \"coordinates\": \"data\", \"pathcodes\": [\"M\", \"L\", \"L\", \"L\", \"Z\"], \"id\": \"el124140324903592680\", \"dasharray\": \"none\", \"alpha\": 1, \"facecolor\": \"#1F77B4\", \"edgecolor\": \"none\", \"edgewidth\": 1.0, \"zorder\": 1}], \"markers\": [], \"texts\": [{\"text\": \"Party\", \"position\": [0.49999999999999994, -0.09657836644591611], \"coordinates\": \"axes\", \"h_anchor\": \"middle\", \"v_baseline\": \"hanging\", \"rotation\": -0.0, \"fontsize\": 10.0, \"color\": \"#000000\", \"alpha\": 1, \"zorder\": 3, \"id\": \"el124140324904141432\"}, {\"text\": \"Confidence\", \"position\": [-0.12, 0.5], \"coordinates\": \"axes\", \"h_anchor\": \"middle\", \"v_baseline\": \"auto\", \"rotation\": -90.0, \"fontsize\": 10.0, \"color\": \"#000000\", \"alpha\": 1, \"zorder\": 3, \"id\": \"el124140324904174872\"}, {\"text\": \"username: SPDhh\", \"position\": [0.49999999999999994, 1.0275938189845473], \"coordinates\": \"axes\", \"h_anchor\": \"middle\", \"v_baseline\": \"auto\", \"rotation\": -0.0, \"fontsize\": 12.0, \"color\": \"#000000\", \"alpha\": 1, \"zorder\": 3, \"id\": \"el124140323661905592\"}], \"collections\": [], \"images\": [], \"sharex\": [], \"sharey\": []}], \"data\": {\"data01\": [[-0.4, 0.0], [0.4, 0.0], [0.4, 0.009773456491529942], [-0.4, 0.009773456491529942]], \"data02\": [[0.6, 0.0], [1.4, 0.0], [1.4, 0.08371008932590485], [0.6, 0.08371008932590485]], \"data03\": [[1.6, 0.0], [2.4000000000000004, 0.0], [2.4000000000000004, 0.6142508387565613], [1.6, 0.6142508387565613]], \"data04\": [[2.6, 0.0], [3.4000000000000004, 0.0], [3.4000000000000004, 0.03099207766354084], [2.6, 0.03099207766354084]], \"data05\": [[3.6, 0.0], [4.4, 0.0], [4.4, 0.26075315475463867], [3.6, 0.26075315475463867]], \"data06\": [[4.6, 0.0], [5.3999999999999995, 0.0], [5.3999999999999995, 0.000520386965945363], [4.6, 0.000520386965945363]]}, \"id\": \"el124140325169933336\", \"plugins\": [{\"type\": \"reset\"}, {\"type\": \"zoom\", \"button\": true, \"enabled\": false}, {\"type\": \"boxzoom\", \"button\": true, \"enabled\": false}]});\n",
              "            })\n",
              "         });\n",
              "}\n",
              "</script>"
            ],
            "text/plain": [
              "<Figure size 432x288 with 1 Axes>"
            ]
          },
          "metadata": {
            "tags": []
          }
        }
      ]
    },
    {
      "cell_type": "markdown",
      "metadata": {
        "id": "SiTpRhJOGb6i",
        "colab_type": "text"
      },
      "source": [
        "Official account of Green Party\n"
      ]
    },
    {
      "cell_type": "code",
      "metadata": {
        "id": "QbDuW_QTGVbD",
        "colab_type": "code",
        "outputId": "029ddf18-ee01-4ce5-b5af-a6900c7c1f74",
        "colab": {
          "base_uri": "https://localhost:8080/",
          "height": 308
        }
      },
      "source": [
        "username_to_plot(\"Die_Gruenen\")"
      ],
      "execution_count": 14,
      "outputs": [
        {
          "output_type": "display_data",
          "data": {
            "image/png": "[encoded data removed]",
            "text/html": [
              "\n",
              "\n",
              "<style>\n",
              "\n",
              "</style>\n",
              "\n",
              "<div id=\"fig_el1241403249034974001863280501\"></div>\n",
              "<script>\n",
              "function mpld3_load_lib(url, callback){\n",
              "  var s = document.createElement('script');\n",
              "  s.src = url;\n",
              "  s.async = true;\n",
              "  s.onreadystatechange = s.onload = callback;\n",
              "  s.onerror = function(){console.warn(\"failed to load library \" + url);};\n",
              "  document.getElementsByTagName(\"head\")[0].appendChild(s);\n",
              "}\n",
              "\n",
              "if(typeof(mpld3) !== \"undefined\" && mpld3._mpld3IsLoaded){\n",
              "   // already loaded: just create the figure\n",
              "   !function(mpld3){\n",
              "       \n",
              "       mpld3.draw_figure(\"fig_el1241403249034974001863280501\", {\"width\": 432.0, \"height\": 288.0, \"axes\": [{\"bbox\": [0.125, 0.125, 0.775, 0.755], \"xlim\": [-0.69, 5.6899999999999995], \"ylim\": [0.0, 0.7749007880687714], \"xdomain\": [-0.69, 5.6899999999999995], \"ydomain\": [0.0, 0.7749007880687714], \"xscale\": \"linear\", \"yscale\": \"linear\", \"axes\": [{\"position\": \"bottom\", \"nticks\": 6, \"tickvalues\": [0, 1, 2, 3, 4, 5], \"tickformat\": [\"linke\", \"green\", \"spd\", \"fdp\", \"cdu\", \"afd\"], \"scale\": \"linear\", \"fontsize\": 10.0, \"grid\": {\"gridOn\": false}, \"visible\": true}, {\"position\": \"left\", \"nticks\": 9, \"tickvalues\": null, \"tickformat\": null, \"scale\": \"linear\", \"fontsize\": 10.0, \"grid\": {\"gridOn\": false}, \"visible\": true}], \"axesbg\": \"#FFFFFF\", \"axesbgalpha\": null, \"zoomable\": true, \"id\": \"el124140322721229344\", \"lines\": [], \"paths\": [{\"data\": \"data01\", \"xindex\": 0, \"yindex\": 1, \"coordinates\": \"data\", \"pathcodes\": [\"M\", \"L\", \"L\", \"L\", \"Z\"], \"id\": \"el124140322648773968\", \"dasharray\": \"none\", \"alpha\": 1, \"facecolor\": \"#1F77B4\", \"edgecolor\": \"none\", \"edgewidth\": 1.0, \"zorder\": 1}, {\"data\": \"data02\", \"xindex\": 0, \"yindex\": 1, \"coordinates\": \"data\", \"pathcodes\": [\"M\", \"L\", \"L\", \"L\", \"Z\"], \"id\": \"el124140322648774472\", \"dasharray\": \"none\", \"alpha\": 1, \"facecolor\": \"#1F77B4\", \"edgecolor\": \"none\", \"edgewidth\": 1.0, \"zorder\": 1}, {\"data\": \"data03\", \"xindex\": 0, \"yindex\": 1, \"coordinates\": \"data\", \"pathcodes\": [\"M\", \"L\", \"L\", \"L\", \"Z\"], \"id\": \"el124140322648775256\", \"dasharray\": \"none\", \"alpha\": 1, \"facecolor\": \"#1F77B4\", \"edgecolor\": \"none\", \"edgewidth\": 1.0, \"zorder\": 1}, {\"data\": \"data04\", \"xindex\": 0, \"yindex\": 1, \"coordinates\": \"data\", \"pathcodes\": [\"M\", \"L\", \"L\", \"L\", \"Z\"], \"id\": \"el124140322648776544\", \"dasharray\": \"none\", \"alpha\": 1, \"facecolor\": \"#1F77B4\", \"edgecolor\": \"none\", \"edgewidth\": 1.0, \"zorder\": 1}, {\"data\": \"data05\", \"xindex\": 0, \"yindex\": 1, \"coordinates\": \"data\", \"pathcodes\": [\"M\", \"L\", \"L\", \"L\", \"Z\"], \"id\": \"el124140322648810104\", \"dasharray\": \"none\", \"alpha\": 1, \"facecolor\": \"#1F77B4\", \"edgecolor\": \"none\", \"edgewidth\": 1.0, \"zorder\": 1}, {\"data\": \"data06\", \"xindex\": 0, \"yindex\": 1, \"coordinates\": \"data\", \"pathcodes\": [\"M\", \"L\", \"L\", \"L\", \"Z\"], \"id\": \"el124140322648810944\", \"dasharray\": \"none\", \"alpha\": 1, \"facecolor\": \"#1F77B4\", \"edgecolor\": \"none\", \"edgewidth\": 1.0, \"zorder\": 1}], \"markers\": [], \"texts\": [{\"text\": \"Party\", \"position\": [0.49999999999999994, -0.09657836644591611], \"coordinates\": \"axes\", \"h_anchor\": \"middle\", \"v_baseline\": \"hanging\", \"rotation\": -0.0, \"fontsize\": 10.0, \"color\": \"#000000\", \"alpha\": 1, \"zorder\": 3, \"id\": \"el124140322721705488\"}, {\"text\": \"Confidence\", \"position\": [-0.12, 0.5], \"coordinates\": \"axes\", \"h_anchor\": \"middle\", \"v_baseline\": \"auto\", \"rotation\": -90.0, \"fontsize\": 10.0, \"color\": \"#000000\", \"alpha\": 1, \"zorder\": 3, \"id\": \"el124140322721265312\"}, {\"text\": \"username: Die_Gruenen\", \"position\": [0.49999999999999994, 1.0275938189845473], \"coordinates\": \"axes\", \"h_anchor\": \"middle\", \"v_baseline\": \"auto\", \"rotation\": -0.0, \"fontsize\": 12.0, \"color\": \"#000000\", \"alpha\": 1, \"zorder\": 3, \"id\": \"el124140322720920912\"}], \"collections\": [], \"images\": [], \"sharex\": [], \"sharey\": []}], \"data\": {\"data01\": [[-0.4, 0.0], [0.4, 0.0], [0.4, 0.05981455743312836], [-0.4, 0.05981455743312836]], \"data02\": [[0.6, 0.0], [1.4, 0.0], [1.4, 0.738000750541687], [0.6, 0.738000750541687]], \"data03\": [[1.6, 0.0], [2.4000000000000004, 0.0], [2.4000000000000004, 0.04793970659375191], [1.6, 0.04793970659375191]], \"data04\": [[2.6, 0.0], [3.4000000000000004, 0.0], [3.4000000000000004, 0.004255146253854036], [2.6, 0.004255146253854036]], \"data05\": [[3.6, 0.0], [4.4, 0.0], [4.4, 0.14639821648597717], [3.6, 0.14639821648597717]], \"data06\": [[4.6, 0.0], [5.3999999999999995, 0.0], [5.3999999999999995, 0.0035915544722229242], [4.6, 0.0035915544722229242]]}, \"id\": \"el124140324903497400\", \"plugins\": [{\"type\": \"reset\"}, {\"type\": \"zoom\", \"button\": true, \"enabled\": false}, {\"type\": \"boxzoom\", \"button\": true, \"enabled\": false}]});\n",
              "   }(mpld3);\n",
              "}else if(typeof define === \"function\" && define.amd){\n",
              "   // require.js is available: use it to load d3/mpld3\n",
              "   require.config({paths: {d3: \"https://mpld3.github.io/js/d3.v3.min\"}});\n",
              "   require([\"d3\"], function(d3){\n",
              "      window.d3 = d3;\n",
              "      mpld3_load_lib(\"https://mpld3.github.io/js/mpld3.v0.3.js\", function(){\n",
              "         \n",
              "         mpld3.draw_figure(\"fig_el1241403249034974001863280501\", {\"width\": 432.0, \"height\": 288.0, \"axes\": [{\"bbox\": [0.125, 0.125, 0.775, 0.755], \"xlim\": [-0.69, 5.6899999999999995], \"ylim\": [0.0, 0.7749007880687714], \"xdomain\": [-0.69, 5.6899999999999995], \"ydomain\": [0.0, 0.7749007880687714], \"xscale\": \"linear\", \"yscale\": \"linear\", \"axes\": [{\"position\": \"bottom\", \"nticks\": 6, \"tickvalues\": [0, 1, 2, 3, 4, 5], \"tickformat\": [\"linke\", \"green\", \"spd\", \"fdp\", \"cdu\", \"afd\"], \"scale\": \"linear\", \"fontsize\": 10.0, \"grid\": {\"gridOn\": false}, \"visible\": true}, {\"position\": \"left\", \"nticks\": 9, \"tickvalues\": null, \"tickformat\": null, \"scale\": \"linear\", \"fontsize\": 10.0, \"grid\": {\"gridOn\": false}, \"visible\": true}], \"axesbg\": \"#FFFFFF\", \"axesbgalpha\": null, \"zoomable\": true, \"id\": \"el124140322721229344\", \"lines\": [], \"paths\": [{\"data\": \"data01\", \"xindex\": 0, \"yindex\": 1, \"coordinates\": \"data\", \"pathcodes\": [\"M\", \"L\", \"L\", \"L\", \"Z\"], \"id\": \"el124140322648773968\", \"dasharray\": \"none\", \"alpha\": 1, \"facecolor\": \"#1F77B4\", \"edgecolor\": \"none\", \"edgewidth\": 1.0, \"zorder\": 1}, {\"data\": \"data02\", \"xindex\": 0, \"yindex\": 1, \"coordinates\": \"data\", \"pathcodes\": [\"M\", \"L\", \"L\", \"L\", \"Z\"], \"id\": \"el124140322648774472\", \"dasharray\": \"none\", \"alpha\": 1, \"facecolor\": \"#1F77B4\", \"edgecolor\": \"none\", \"edgewidth\": 1.0, \"zorder\": 1}, {\"data\": \"data03\", \"xindex\": 0, \"yindex\": 1, \"coordinates\": \"data\", \"pathcodes\": [\"M\", \"L\", \"L\", \"L\", \"Z\"], \"id\": \"el124140322648775256\", \"dasharray\": \"none\", \"alpha\": 1, \"facecolor\": \"#1F77B4\", \"edgecolor\": \"none\", \"edgewidth\": 1.0, \"zorder\": 1}, {\"data\": \"data04\", \"xindex\": 0, \"yindex\": 1, \"coordinates\": \"data\", \"pathcodes\": [\"M\", \"L\", \"L\", \"L\", \"Z\"], \"id\": \"el124140322648776544\", \"dasharray\": \"none\", \"alpha\": 1, \"facecolor\": \"#1F77B4\", \"edgecolor\": \"none\", \"edgewidth\": 1.0, \"zorder\": 1}, {\"data\": \"data05\", \"xindex\": 0, \"yindex\": 1, \"coordinates\": \"data\", \"pathcodes\": [\"M\", \"L\", \"L\", \"L\", \"Z\"], \"id\": \"el124140322648810104\", \"dasharray\": \"none\", \"alpha\": 1, \"facecolor\": \"#1F77B4\", \"edgecolor\": \"none\", \"edgewidth\": 1.0, \"zorder\": 1}, {\"data\": \"data06\", \"xindex\": 0, \"yindex\": 1, \"coordinates\": \"data\", \"pathcodes\": [\"M\", \"L\", \"L\", \"L\", \"Z\"], \"id\": \"el124140322648810944\", \"dasharray\": \"none\", \"alpha\": 1, \"facecolor\": \"#1F77B4\", \"edgecolor\": \"none\", \"edgewidth\": 1.0, \"zorder\": 1}], \"markers\": [], \"texts\": [{\"text\": \"Party\", \"position\": [0.49999999999999994, -0.09657836644591611], \"coordinates\": \"axes\", \"h_anchor\": \"middle\", \"v_baseline\": \"hanging\", \"rotation\": -0.0, \"fontsize\": 10.0, \"color\": \"#000000\", \"alpha\": 1, \"zorder\": 3, \"id\": \"el124140322721705488\"}, {\"text\": \"Confidence\", \"position\": [-0.12, 0.5], \"coordinates\": \"axes\", \"h_anchor\": \"middle\", \"v_baseline\": \"auto\", \"rotation\": -90.0, \"fontsize\": 10.0, \"color\": \"#000000\", \"alpha\": 1, \"zorder\": 3, \"id\": \"el124140322721265312\"}, {\"text\": \"username: Die_Gruenen\", \"position\": [0.49999999999999994, 1.0275938189845473], \"coordinates\": \"axes\", \"h_anchor\": \"middle\", \"v_baseline\": \"auto\", \"rotation\": -0.0, \"fontsize\": 12.0, \"color\": \"#000000\", \"alpha\": 1, \"zorder\": 3, \"id\": \"el124140322720920912\"}], \"collections\": [], \"images\": [], \"sharex\": [], \"sharey\": []}], \"data\": {\"data01\": [[-0.4, 0.0], [0.4, 0.0], [0.4, 0.05981455743312836], [-0.4, 0.05981455743312836]], \"data02\": [[0.6, 0.0], [1.4, 0.0], [1.4, 0.738000750541687], [0.6, 0.738000750541687]], \"data03\": [[1.6, 0.0], [2.4000000000000004, 0.0], [2.4000000000000004, 0.04793970659375191], [1.6, 0.04793970659375191]], \"data04\": [[2.6, 0.0], [3.4000000000000004, 0.0], [3.4000000000000004, 0.004255146253854036], [2.6, 0.004255146253854036]], \"data05\": [[3.6, 0.0], [4.4, 0.0], [4.4, 0.14639821648597717], [3.6, 0.14639821648597717]], \"data06\": [[4.6, 0.0], [5.3999999999999995, 0.0], [5.3999999999999995, 0.0035915544722229242], [4.6, 0.0035915544722229242]]}, \"id\": \"el124140324903497400\", \"plugins\": [{\"type\": \"reset\"}, {\"type\": \"zoom\", \"button\": true, \"enabled\": false}, {\"type\": \"boxzoom\", \"button\": true, \"enabled\": false}]});\n",
              "      });\n",
              "    });\n",
              "}else{\n",
              "    // require.js not available: dynamically load d3 & mpld3\n",
              "    mpld3_load_lib(\"https://mpld3.github.io/js/d3.v3.min.js\", function(){\n",
              "         mpld3_load_lib(\"https://mpld3.github.io/js/mpld3.v0.3.js\", function(){\n",
              "                 \n",
              "                 mpld3.draw_figure(\"fig_el1241403249034974001863280501\", {\"width\": 432.0, \"height\": 288.0, \"axes\": [{\"bbox\": [0.125, 0.125, 0.775, 0.755], \"xlim\": [-0.69, 5.6899999999999995], \"ylim\": [0.0, 0.7749007880687714], \"xdomain\": [-0.69, 5.6899999999999995], \"ydomain\": [0.0, 0.7749007880687714], \"xscale\": \"linear\", \"yscale\": \"linear\", \"axes\": [{\"position\": \"bottom\", \"nticks\": 6, \"tickvalues\": [0, 1, 2, 3, 4, 5], \"tickformat\": [\"linke\", \"green\", \"spd\", \"fdp\", \"cdu\", \"afd\"], \"scale\": \"linear\", \"fontsize\": 10.0, \"grid\": {\"gridOn\": false}, \"visible\": true}, {\"position\": \"left\", \"nticks\": 9, \"tickvalues\": null, \"tickformat\": null, \"scale\": \"linear\", \"fontsize\": 10.0, \"grid\": {\"gridOn\": false}, \"visible\": true}], \"axesbg\": \"#FFFFFF\", \"axesbgalpha\": null, \"zoomable\": true, \"id\": \"el124140322721229344\", \"lines\": [], \"paths\": [{\"data\": \"data01\", \"xindex\": 0, \"yindex\": 1, \"coordinates\": \"data\", \"pathcodes\": [\"M\", \"L\", \"L\", \"L\", \"Z\"], \"id\": \"el124140322648773968\", \"dasharray\": \"none\", \"alpha\": 1, \"facecolor\": \"#1F77B4\", \"edgecolor\": \"none\", \"edgewidth\": 1.0, \"zorder\": 1}, {\"data\": \"data02\", \"xindex\": 0, \"yindex\": 1, \"coordinates\": \"data\", \"pathcodes\": [\"M\", \"L\", \"L\", \"L\", \"Z\"], \"id\": \"el124140322648774472\", \"dasharray\": \"none\", \"alpha\": 1, \"facecolor\": \"#1F77B4\", \"edgecolor\": \"none\", \"edgewidth\": 1.0, \"zorder\": 1}, {\"data\": \"data03\", \"xindex\": 0, \"yindex\": 1, \"coordinates\": \"data\", \"pathcodes\": [\"M\", \"L\", \"L\", \"L\", \"Z\"], \"id\": \"el124140322648775256\", \"dasharray\": \"none\", \"alpha\": 1, \"facecolor\": \"#1F77B4\", \"edgecolor\": \"none\", \"edgewidth\": 1.0, \"zorder\": 1}, {\"data\": \"data04\", \"xindex\": 0, \"yindex\": 1, \"coordinates\": \"data\", \"pathcodes\": [\"M\", \"L\", \"L\", \"L\", \"Z\"], \"id\": \"el124140322648776544\", \"dasharray\": \"none\", \"alpha\": 1, \"facecolor\": \"#1F77B4\", \"edgecolor\": \"none\", \"edgewidth\": 1.0, \"zorder\": 1}, {\"data\": \"data05\", \"xindex\": 0, \"yindex\": 1, \"coordinates\": \"data\", \"pathcodes\": [\"M\", \"L\", \"L\", \"L\", \"Z\"], \"id\": \"el124140322648810104\", \"dasharray\": \"none\", \"alpha\": 1, \"facecolor\": \"#1F77B4\", \"edgecolor\": \"none\", \"edgewidth\": 1.0, \"zorder\": 1}, {\"data\": \"data06\", \"xindex\": 0, \"yindex\": 1, \"coordinates\": \"data\", \"pathcodes\": [\"M\", \"L\", \"L\", \"L\", \"Z\"], \"id\": \"el124140322648810944\", \"dasharray\": \"none\", \"alpha\": 1, \"facecolor\": \"#1F77B4\", \"edgecolor\": \"none\", \"edgewidth\": 1.0, \"zorder\": 1}], \"markers\": [], \"texts\": [{\"text\": \"Party\", \"position\": [0.49999999999999994, -0.09657836644591611], \"coordinates\": \"axes\", \"h_anchor\": \"middle\", \"v_baseline\": \"hanging\", \"rotation\": -0.0, \"fontsize\": 10.0, \"color\": \"#000000\", \"alpha\": 1, \"zorder\": 3, \"id\": \"el124140322721705488\"}, {\"text\": \"Confidence\", \"position\": [-0.12, 0.5], \"coordinates\": \"axes\", \"h_anchor\": \"middle\", \"v_baseline\": \"auto\", \"rotation\": -90.0, \"fontsize\": 10.0, \"color\": \"#000000\", \"alpha\": 1, \"zorder\": 3, \"id\": \"el124140322721265312\"}, {\"text\": \"username: Die_Gruenen\", \"position\": [0.49999999999999994, 1.0275938189845473], \"coordinates\": \"axes\", \"h_anchor\": \"middle\", \"v_baseline\": \"auto\", \"rotation\": -0.0, \"fontsize\": 12.0, \"color\": \"#000000\", \"alpha\": 1, \"zorder\": 3, \"id\": \"el124140322720920912\"}], \"collections\": [], \"images\": [], \"sharex\": [], \"sharey\": []}], \"data\": {\"data01\": [[-0.4, 0.0], [0.4, 0.0], [0.4, 0.05981455743312836], [-0.4, 0.05981455743312836]], \"data02\": [[0.6, 0.0], [1.4, 0.0], [1.4, 0.738000750541687], [0.6, 0.738000750541687]], \"data03\": [[1.6, 0.0], [2.4000000000000004, 0.0], [2.4000000000000004, 0.04793970659375191], [1.6, 0.04793970659375191]], \"data04\": [[2.6, 0.0], [3.4000000000000004, 0.0], [3.4000000000000004, 0.004255146253854036], [2.6, 0.004255146253854036]], \"data05\": [[3.6, 0.0], [4.4, 0.0], [4.4, 0.14639821648597717], [3.6, 0.14639821648597717]], \"data06\": [[4.6, 0.0], [5.3999999999999995, 0.0], [5.3999999999999995, 0.0035915544722229242], [4.6, 0.0035915544722229242]]}, \"id\": \"el124140324903497400\", \"plugins\": [{\"type\": \"reset\"}, {\"type\": \"zoom\", \"button\": true, \"enabled\": false}, {\"type\": \"boxzoom\", \"button\": true, \"enabled\": false}]});\n",
              "            })\n",
              "         });\n",
              "}\n",
              "</script>"
            ],
            "text/plain": [
              "<Figure size 432x288 with 1 Axes>"
            ]
          },
          "metadata": {
            "tags": []
          }
        }
      ]
    }
  ]
}